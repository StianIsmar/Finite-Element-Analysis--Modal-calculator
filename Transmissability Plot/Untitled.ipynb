{
 "cells": [
  {
   "cell_type": "code",
   "execution_count": 9,
   "metadata": {},
   "outputs": [],
   "source": [
    "import pandas as pd\n",
    "import numpy as np\n",
    "import matplotlib.pyplot as plt\n",
    "\n",
    "\n",
    "def load_csv(path):\n",
    "    df1 = pd.read_csv(path)\n",
    "    return df1\n",
    "\n",
    "def scale_points(dataframe):\n",
    "    # New column:\n",
    "    dataframe['magnitude'] = 1\n",
    "    dataframe.columns.values[0] = \"0\"\n",
    "    dataframe.columns.values[1] = \"1\"\n",
    "    dataframe.columns.values[2] = \"2\"\n",
    "    \n",
    "    columns = dataframe.loc[:,'1':'2']\n",
    "    \n",
    "    magnitude = []\n",
    "    for row in columns.iterrows():\n",
    "        index, data = row\n",
    "        # print(data)\n",
    "        # print(np.absolute(data.tolist()))\n",
    "        # print(data[0])\n",
    "        num = (np.sqrt(([data[0]**2+ data[1]**2])))\n",
    "        magnitude.append(num[0])\n",
    "        x = list(range(0,columns.shape[0]))\n",
    "        \n",
    "\n",
    "        \n",
    "        \n",
    "    return x, magnitude\n",
    "        \n",
    "d1 = load_csv('./Transmissability_Results/x/X_X.csv')\n",
    "x_x = scale_points(d1)\n",
    "\n",
    "\n"
   ]
  },
  {
   "cell_type": "code",
   "execution_count": null,
   "metadata": {},
   "outputs": [],
   "source": [
    "def plot_data(x1,y1,x2,y2,x3,y3):\n",
    "    fig=plt.figure(figsize=(12, 8), dpi= 80, facecolor='w', edgecolor='k')\n",
    "\n",
    "    plt.title(\"Plot for transmissability analysis\", y=1.08)\n",
    "\n",
    "    plt.plot(x1,y1, label=\"x-direction\")\n",
    "    plt.plot(x2,y2, label=\"y-direction\") \n",
    "    plt.plot(x3,y3, label=\"z-direction\")\n",
    "\n",
    "    plt.legend(bbox_to_anchor = (0., 1.02, 1., .102), loc=3,ncol=2, mode=\"expand\", borderaxespad=0.)\n",
    "    \n",
    "    plt.xlabel(\"Frequency [Hz]\")\n",
    "    plt.ylabel(\"Acceleration/Acceleration [mm/s^2/mm/s^2], Scaled to 2G\")\n",
    "    params = {\n",
    "        'legend.fontsize': 14,\n",
    "        'legend.handlelength': 2}\n",
    "    plt.rcParams.update(params)\n",
    "\n",
    "    plt.show()\n",
    "    "
   ]
  }
 ],
 "metadata": {
  "kernelspec": {
   "display_name": "Python 3",
   "language": "python",
   "name": "python3"
  },
  "language_info": {
   "codemirror_mode": {
    "name": "ipython",
    "version": 3
   },
   "file_extension": ".py",
   "mimetype": "text/x-python",
   "name": "python",
   "nbconvert_exporter": "python",
   "pygments_lexer": "ipython3",
   "version": "3.7.2"
  }
 },
 "nbformat": 4,
 "nbformat_minor": 2
}
